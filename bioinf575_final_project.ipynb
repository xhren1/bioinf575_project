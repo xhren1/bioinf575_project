{
 "cells": [
  {
   "cell_type": "markdown",
   "id": "0f494ce9",
   "metadata": {},
   "source": [
    "# <b>Bioinf575 final project: Lung cander subtyping<b>\n",
    "### <b>Team 7<b>\n",
    "Paula Magdalena Fraczek     \n",
    "Jiayu Liu       \n",
    "Sophia Angelina Marcotte       \n",
    "Xiheng Ren"
   ]
  },
  {
   "cell_type": "markdown",
   "id": "1fa42107",
   "metadata": {},
   "source": [
    "###  1 - Load the data - you can use the GEOparse module for this task.\n",
    "\n",
    "https://geoparse.readthedocs.io/en/latest/introduction.html"
   ]
  },
  {
   "cell_type": "code",
   "execution_count": 2,
   "id": "3ffa4241-5e86-4e3a-a204-8d615c8a30c8",
   "metadata": {},
   "outputs": [],
   "source": [
    "import pandas as pd\n",
    "import numpy as np\n",
    "import GEOparse"
   ]
  },
  {
   "cell_type": "code",
   "execution_count": 3,
   "id": "b5a1a60f",
   "metadata": {},
   "outputs": [
    {
     "name": "stderr",
     "output_type": "stream",
     "text": [
      "09-Nov-2022 14:20:48 INFO GEOparse - Parsing ./GSE10245_family.soft.gz: \n",
      "09-Nov-2022 14:20:48 DEBUG GEOparse - DATABASE: GeoMiame\n",
      "09-Nov-2022 14:20:48 DEBUG GEOparse - SERIES: GSE10245\n",
      "09-Nov-2022 14:20:48 DEBUG GEOparse - PLATFORM: GPL570\n",
      "c:\\Users\\11148\\anaconda3\\lib\\site-packages\\GEOparse\\GEOparse.py:401: DtypeWarning: Columns (2) have mixed types. Specify dtype option on import or set low_memory=False.\n",
      "  return read_csv(StringIO(data), index_col=None, sep=\"\\t\")\n",
      "09-Nov-2022 14:20:52 DEBUG GEOparse - SAMPLE: GSM258551\n",
      "09-Nov-2022 14:20:52 DEBUG GEOparse - SAMPLE: GSM258552\n",
      "09-Nov-2022 14:20:53 DEBUG GEOparse - SAMPLE: GSM258553\n",
      "09-Nov-2022 14:20:53 DEBUG GEOparse - SAMPLE: GSM258554\n",
      "09-Nov-2022 14:20:53 DEBUG GEOparse - SAMPLE: GSM258555\n",
      "09-Nov-2022 14:20:53 DEBUG GEOparse - SAMPLE: GSM258556\n",
      "09-Nov-2022 14:20:53 DEBUG GEOparse - SAMPLE: GSM258557\n",
      "09-Nov-2022 14:20:54 DEBUG GEOparse - SAMPLE: GSM258558\n",
      "09-Nov-2022 14:20:54 DEBUG GEOparse - SAMPLE: GSM258559\n",
      "09-Nov-2022 14:20:54 DEBUG GEOparse - SAMPLE: GSM258560\n",
      "09-Nov-2022 14:20:54 DEBUG GEOparse - SAMPLE: GSM258561\n",
      "09-Nov-2022 14:20:54 DEBUG GEOparse - SAMPLE: GSM258562\n",
      "09-Nov-2022 14:20:55 DEBUG GEOparse - SAMPLE: GSM258563\n",
      "09-Nov-2022 14:20:55 DEBUG GEOparse - SAMPLE: GSM258564\n",
      "09-Nov-2022 14:20:55 DEBUG GEOparse - SAMPLE: GSM258565\n",
      "09-Nov-2022 14:20:55 DEBUG GEOparse - SAMPLE: GSM258566\n",
      "09-Nov-2022 14:20:55 DEBUG GEOparse - SAMPLE: GSM258567\n",
      "09-Nov-2022 14:20:55 DEBUG GEOparse - SAMPLE: GSM258568\n",
      "09-Nov-2022 14:20:56 DEBUG GEOparse - SAMPLE: GSM258569\n",
      "09-Nov-2022 14:20:56 DEBUG GEOparse - SAMPLE: GSM258570\n",
      "09-Nov-2022 14:20:56 DEBUG GEOparse - SAMPLE: GSM258571\n",
      "09-Nov-2022 14:20:56 DEBUG GEOparse - SAMPLE: GSM258572\n",
      "09-Nov-2022 14:20:56 DEBUG GEOparse - SAMPLE: GSM258573\n",
      "09-Nov-2022 14:20:57 DEBUG GEOparse - SAMPLE: GSM258574\n",
      "09-Nov-2022 14:20:57 DEBUG GEOparse - SAMPLE: GSM258575\n",
      "09-Nov-2022 14:20:57 DEBUG GEOparse - SAMPLE: GSM258576\n",
      "09-Nov-2022 14:20:57 DEBUG GEOparse - SAMPLE: GSM258577\n",
      "09-Nov-2022 14:20:58 DEBUG GEOparse - SAMPLE: GSM258578\n",
      "09-Nov-2022 14:20:58 DEBUG GEOparse - SAMPLE: GSM258579\n",
      "09-Nov-2022 14:20:58 DEBUG GEOparse - SAMPLE: GSM258580\n",
      "09-Nov-2022 14:20:58 DEBUG GEOparse - SAMPLE: GSM258581\n",
      "09-Nov-2022 14:20:59 DEBUG GEOparse - SAMPLE: GSM258582\n",
      "09-Nov-2022 14:20:59 DEBUG GEOparse - SAMPLE: GSM258583\n",
      "09-Nov-2022 14:20:59 DEBUG GEOparse - SAMPLE: GSM258584\n",
      "09-Nov-2022 14:20:59 DEBUG GEOparse - SAMPLE: GSM258585\n",
      "09-Nov-2022 14:20:59 DEBUG GEOparse - SAMPLE: GSM258586\n",
      "09-Nov-2022 14:21:00 DEBUG GEOparse - SAMPLE: GSM258587\n",
      "09-Nov-2022 14:21:00 DEBUG GEOparse - SAMPLE: GSM258588\n",
      "09-Nov-2022 14:21:00 DEBUG GEOparse - SAMPLE: GSM258589\n",
      "09-Nov-2022 14:21:00 DEBUG GEOparse - SAMPLE: GSM258590\n",
      "09-Nov-2022 14:21:00 DEBUG GEOparse - SAMPLE: GSM258591\n",
      "09-Nov-2022 14:21:01 DEBUG GEOparse - SAMPLE: GSM258592\n",
      "09-Nov-2022 14:21:01 DEBUG GEOparse - SAMPLE: GSM258593\n",
      "09-Nov-2022 14:21:01 DEBUG GEOparse - SAMPLE: GSM258594\n",
      "09-Nov-2022 14:21:01 DEBUG GEOparse - SAMPLE: GSM258595\n",
      "09-Nov-2022 14:21:01 DEBUG GEOparse - SAMPLE: GSM258596\n",
      "09-Nov-2022 14:21:02 DEBUG GEOparse - SAMPLE: GSM258597\n",
      "09-Nov-2022 14:21:02 DEBUG GEOparse - SAMPLE: GSM258598\n",
      "09-Nov-2022 14:21:02 DEBUG GEOparse - SAMPLE: GSM258599\n",
      "09-Nov-2022 14:21:02 DEBUG GEOparse - SAMPLE: GSM258600\n",
      "09-Nov-2022 14:21:02 DEBUG GEOparse - SAMPLE: GSM258601\n",
      "09-Nov-2022 14:21:02 DEBUG GEOparse - SAMPLE: GSM258602\n",
      "09-Nov-2022 14:21:03 DEBUG GEOparse - SAMPLE: GSM258603\n",
      "09-Nov-2022 14:21:03 DEBUG GEOparse - SAMPLE: GSM258604\n",
      "09-Nov-2022 14:21:03 DEBUG GEOparse - SAMPLE: GSM258605\n",
      "09-Nov-2022 14:21:03 DEBUG GEOparse - SAMPLE: GSM258606\n",
      "09-Nov-2022 14:21:03 DEBUG GEOparse - SAMPLE: GSM258607\n",
      "09-Nov-2022 14:21:04 DEBUG GEOparse - SAMPLE: GSM258608\n"
     ]
    }
   ],
   "source": [
    "gse = GEOparse.get_GEO(filepath=\"./GSE10245_family.soft.gz\")"
   ]
  },
  {
   "cell_type": "code",
   "execution_count": 4,
   "id": "b81d97fd",
   "metadata": {},
   "outputs": [
    {
     "data": {
      "text/plain": [
       "GEOparse.GEOTypes.GSE"
      ]
     },
     "execution_count": 4,
     "metadata": {},
     "output_type": "execute_result"
    }
   ],
   "source": [
    "type(gse)"
   ]
  },
  {
   "cell_type": "code",
   "execution_count": 5,
   "id": "220713d8",
   "metadata": {},
   "outputs": [
    {
     "data": {
      "text/plain": [
       "<SERIES: GSE10245 - 58 SAMPLES, 1 d(s)>"
      ]
     },
     "execution_count": 5,
     "metadata": {},
     "output_type": "execute_result"
    }
   ],
   "source": [
    "gse"
   ]
  },
  {
   "cell_type": "code",
   "execution_count": null,
   "id": "6122c15f",
   "metadata": {},
   "outputs": [],
   "source": []
  }
 ],
 "metadata": {
  "kernelspec": {
   "display_name": "Python 3.9.12 ('base')",
   "language": "python",
   "name": "python3"
  },
  "language_info": {
   "codemirror_mode": {
    "name": "ipython",
    "version": 3
   },
   "file_extension": ".py",
   "mimetype": "text/x-python",
   "name": "python",
   "nbconvert_exporter": "python",
   "pygments_lexer": "ipython3",
   "version": "3.9.12"
  },
  "vscode": {
   "interpreter": {
    "hash": "8a8c088375e7f7b1059b621e2dce6684beff0b1a7543a198fc32c688bae189e3"
   }
  }
 },
 "nbformat": 4,
 "nbformat_minor": 5
}
